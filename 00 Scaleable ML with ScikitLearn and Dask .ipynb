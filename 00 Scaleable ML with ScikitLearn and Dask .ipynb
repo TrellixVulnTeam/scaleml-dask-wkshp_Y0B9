{
 "cells": [
  {
   "cell_type": "markdown",
   "metadata": {
    "hideCode": false,
    "hidePrompt": false,
    "slideshow": {
     "slide_type": "slide"
    }
   },
   "source": [
    "Scalable Machine Learning in Python \n",
    "===================\n",
    "with Scikit-Learn and Dask \n",
    "===============\n",
    "**May 2017**\n",
    "\n",
    "Ian Stokes-Rees [@ijstokes](http://twitter.com/ijstokes)\n",
    "\n",
    "<a href=https://dask.pydata.org ><img src=https://www.continuum.io/sites/default/files/dask_stacked.png\n",
    " width=200 />\n",
    "</a>\n",
    "\n",
    "[http://bit.ly/scaleml-dask-wkshp](http://bit.ly/scaleml-dask-wkshp)\n"
   ]
  },
  {
   "cell_type": "markdown",
   "metadata": {
    "hideCode": false,
    "hidePrompt": false,
    "slideshow": {
     "slide_type": "subslide"
    }
   },
   "source": [
    "## Description\n",
    "\n",
    "This hands-on 3 hour workshop will give participants an opportunity to explore [Dask](http://dask.pydata.org), a parallel computing framework for Python.  We will start with an overview of Dask and the problem it was designed to address, and then look at three exercises that demonstrate the Dask parallel wrappers for [Pandas](http://pandas.pydata.org), [NumPy](http://www.numpy.org), and [Scikit-Learn](http://www.scikit-learn.org).\n",
    "\n",
    "<table>\n",
    "<tr><td>\n",
    "<a href=https://dask.pydata.org ><img src=https://www.continuum.io/sites/default/files/dask_stacked.png\n",
    " width=200 />\n",
    "</a>\n",
    "\n",
    "</td>\n",
    "<td>\n",
    "<a href=http://scikit-learn.org/ ><img src=http://scikit-learn.org/stable/_images/scikit-learn-logo-notext.png\n",
    " width=200 />\n",
    "</a>\n",
    "</td>\n",
    "<td>\n",
    "<a href=http://pandas.pydata.org ><img src=http://people.math.sc.edu/etpalmer/Images/pandas_logo.png\n",
    " width=200 />\n",
    "</a>\n",
    "<br/>\n",
    "<a href=http://www.numpy.org ><img src=https://valohai.com/static/img/support-logos/numpy-simple.svg\n",
    " width=200 />\n",
    "</a>\n",
    "</td></tr>\n",
    "</table>"
   ]
  },
  {
   "cell_type": "markdown",
   "metadata": {
    "hideCode": false,
    "hidePrompt": false,
    "slideshow": {
     "slide_type": "subslide"
    }
   },
   "source": [
    "Presenter\n",
    "--------\n",
    "\n",
    "<table>\n",
    "\n",
    "<tr><td>\n",
    "<font size=+2><b>Ian Stokes-Rees</b> [@ijstokes](http://twitter.com/ijstokes)\n",
    "<br/>[ijstokes@continuum.io](mailto:ijstokes@continuum.io)\n",
    "<br/>\n",
    "[http://about.me/ijstokes](http://about.me/ijstokes)\n",
    "<br/>\n",
    "[http://linkedin.com/in/ijstokes](http://linkedin.com/in/ijstokes)\n",
    "<br/></font>\n",
    "</td>\n",
    "<td>\n",
    "<a href=https://continuum.io ><img src=http://ijstokes-public.s3.amazonaws.com/dspyr/img/AnacondaCIO_Logo width=400 />\n",
    "</a>\n",
    "</td></tr>\n",
    "</table>"
   ]
  },
  {
   "cell_type": "markdown",
   "metadata": {
    "hideCode": false,
    "hidePrompt": false,
    "slideshow": {
     "slide_type": "subslide"
    }
   },
   "source": [
    "Acknowledgements\n",
    "---------------\n",
    "Adapted from material created by:\n",
    "* [Matthew Rocklin](https://github.com/mrocklin)\n",
    "* [Ben Zaitlen](https://github.com/quasiben)\n",
    "* [Min Ragan-Kelley](https://github.com/minrk)\n",
    "* [Olivier Grisel](https://github.com/ogrisel)\n",
    "\n",
    "In particular:\n",
    "* [PyCon 2017 Parallel Data Analysis Tutorial](https://us.pycon.org/2017/schedule/presentation/189/)\n",
    "* [Dask Tutorial](https://github.com/dask/dask-tutorial)\n",
    "* [Dask Talk](http://matthewrocklin.com/slides/dask-short#)"
   ]
  },
  {
   "cell_type": "markdown",
   "metadata": {
    "hideCode": false,
    "hidePrompt": false,
    "slideshow": {
     "slide_type": "subslide"
    }
   },
   "source": [
    "Assets and Reference\n",
    "-------------------\n",
    "This presentation:\n",
    "* Anaconda Cloud: https://anaconda.org/ijstokes/scaleml-dask-wkshp\n",
    "* GitHub: https://github.com/ijstokes/scaleml-dask-wkshp\n",
    "\n",
    "The material is based on the BSD-3 open source Dask project, which is included in the Anaconda Distribution:\n",
    "* Docs: http://dask.pydata.org/\n",
    "* GitHub: https://github.com/dask/dask\n",
    "* Support: http://dask.pydata.org/en/latest/support.html"
   ]
  },
  {
   "cell_type": "markdown",
   "metadata": {
    "hideCode": false,
    "hidePrompt": false,
    "slideshow": {
     "slide_type": "subslide"
    }
   },
   "source": [
    "Setup\n",
    "-----\n",
    "* [Download Anaconda 4.3 for Python 3.6](http://continuum.io/downloads)\n",
    "* Clone or download the GitHub repo for the workshop:\n",
    "\n",
    "* Create a conda environment for the workshop:\n",
    "```bash\n",
    "conda env create ijstokes/daskwkshp\n",
    "```\n",
    "* If that doesn't work, this should do the trick:\n",
    "```bash\n",
    "conda create -n daskwkshp dask scikit-learn jupyter notebook=5 python-graphviz pandas python=3.6\n",
    "```"
   ]
  },
  {
   "cell_type": "markdown",
   "metadata": {
    "hideCode": false,
    "hidePrompt": false,
    "slideshow": {
     "slide_type": "subslide"
    }
   },
   "source": [
    "## Before we start\n",
    "\n",
    "We need to get some data to work with.\n",
    "We are going to generate some [fake stock data](https://github.com/mrocklin/fakestockdata) by adding a bunch of points between real stock data points. This will take a few minutes the first time we run it."
   ]
  },
  {
   "cell_type": "code",
   "execution_count": null,
   "metadata": {
    "collapsed": true,
    "hideCode": false,
    "hidePrompt": false,
    "slideshow": {
     "slide_type": "fragment"
    }
   },
   "outputs": [],
   "source": [
    "%run ./prep.py"
   ]
  }
 ],
 "metadata": {
  "celltoolbar": "Slideshow",
  "hide_code_all_hidden": false,
  "kernelspec": {
   "display_name": "Python 3",
   "language": "python",
   "name": "python3"
  },
  "language_info": {
   "codemirror_mode": {
    "name": "ipython",
    "version": 3
   },
   "file_extension": ".py",
   "mimetype": "text/x-python",
   "name": "python",
   "nbconvert_exporter": "python",
   "pygments_lexer": "ipython3",
   "version": "3.6.1"
  }
 },
 "nbformat": 4,
 "nbformat_minor": 1
}
